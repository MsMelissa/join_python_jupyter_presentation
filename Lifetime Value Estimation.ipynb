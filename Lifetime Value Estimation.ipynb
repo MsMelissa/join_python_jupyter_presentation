{
 "cells": [
  {
   "cell_type": "code",
   "execution_count": 32,
   "metadata": {
    "collapsed": true
   },
   "outputs": [],
   "source": [
    "#Import Libraries needed for API, and Pandas\n",
    "import requests\n",
    "import pandas as pd\n",
    "import numpy as np\n",
    "import ConfigParser\n",
    "\n",
    "#Read config file with Looker API and Database connection information\n",
    "config = ConfigParser.RawConfigParser(allow_no_value=True)\n",
    "config.read('config')\n",
    "\n",
    "#Very Basic Looker API class allowing us to access the data from a given Look ID\n",
    "class lookerAPIClient:\n",
    "    def __init__(self, api_host=None, api_client_id=None, api_secret=None, api_port='19999'):\n",
    "        auth_request_payload = {'client_id': api_client_id, 'client_secret': api_secret}\n",
    "        self.host = api_host\n",
    "        self.uri_stub = '/api/3.0/'\n",
    "        self.uri_full = ''.join([api_host, ':', api_port, self.uri_stub])\n",
    "        response = requests.post(self.uri_full + 'login', params=auth_request_payload)\n",
    "        authData = response.json()\n",
    "        self.access_token = authData['access_token']\n",
    "        self.auth_headers = {\n",
    "                'Authorization' : 'token ' + self.access_token,\n",
    "                }\n",
    "\n",
    "    def post(self, call='', json_payload=None):\n",
    "        response = requests.post(self.uri_full + call, headers=self.auth_headers, json=json_payload)\n",
    "        return response.json()\n",
    "\n",
    "    def get(self, call=''):\n",
    "        response = requests.get(self.uri_full + call, headers=self.auth_headers)\n",
    "        return response.json()\n",
    "\n",
    "    def runLook(self, look, limit=100):\n",
    "        optional_arguments = '?' + 'limit=' + str(limit)\n",
    "        return self.get('/'.join(['looks',look,'run','json'])+optional_arguments)\n",
    "\n",
    "#Initialize the Looker API Class with the data in our config file (which is stored in a neighboring file 'config')\n",
    "x = lookerAPIClient(\n",
    "        api_host      = config.get('api', 'api_host'), \n",
    "        api_client_id = config.get('api', 'api_client_id'), \n",
    "        api_secret    = config.get('api', 'api_secret'), \n",
    "        api_port      = config.get('api', 'api_port')\n",
    "        )    \n",
    "    \n",
    "#Use the API to get our training/'test' dataset and our new 'validation' dataset we will predict upon\n",
    "historicalCustomers = x.runLook('292',limit=10000)\n",
    "newCustomers = x.runLook('293',limit=10000)\n",
    "\n",
    "\n",
    "historicalCustomersDF = pd.DataFrame(historicalCustomers)\n",
    "newCustomersDF  = pd.DataFrame(newCustomers)\n"
   ]
  },
  {
   "cell_type": "code",
   "execution_count": 33,
   "metadata": {
    "collapsed": true
   },
   "outputs": [],
   "source": [
    "import statsmodels.api as sm\n",
    "# import pandas.tseries.statsmodels.api as sm\n",
    "trainingSet.head()\n",
    "\n",
    "Y = historicalCustomersDF['user_facts.total_revenue']\n",
    "X = historicalCustomersDF[['users.age','user_facts.orders_in_first_30_days','user_facts.total_revenue_in_first_30_days']]\n",
    "\n",
    "X = sm.add_constant(X)\n",
    "\n",
    "est = sm.OLS(Y,X)"
   ]
  },
  {
   "cell_type": "code",
   "execution_count": 34,
   "metadata": {},
   "outputs": [
    {
     "data": {
      "text/html": [
       "<table class=\"simpletable\">\n",
       "<caption>OLS Regression Results</caption>\n",
       "<tr>\n",
       "  <th>Dep. Variable:</th>    <td>user_facts.total_revenue</td> <th>  R-squared:         </th> <td>   0.138</td> \n",
       "</tr>\n",
       "<tr>\n",
       "  <th>Model:</th>                       <td>OLS</td>           <th>  Adj. R-squared:    </th> <td>   0.138</td> \n",
       "</tr>\n",
       "<tr>\n",
       "  <th>Method:</th>                 <td>Least Squares</td>      <th>  F-statistic:       </th> <td>   203.3</td> \n",
       "</tr>\n",
       "<tr>\n",
       "  <th>Date:</th>                 <td>Sat, 09 Sep 2017</td>     <th>  Prob (F-statistic):</th> <td>2.64e-122</td>\n",
       "</tr>\n",
       "<tr>\n",
       "  <th>Time:</th>                     <td>21:07:32</td>         <th>  Log-Likelihood:    </th> <td> -25629.</td> \n",
       "</tr>\n",
       "<tr>\n",
       "  <th>No. Observations:</th>          <td>  3808</td>          <th>  AIC:               </th> <td>5.127e+04</td>\n",
       "</tr>\n",
       "<tr>\n",
       "  <th>Df Residuals:</th>              <td>  3804</td>          <th>  BIC:               </th> <td>5.129e+04</td>\n",
       "</tr>\n",
       "<tr>\n",
       "  <th>Df Model:</th>                  <td>     3</td>          <th>                     </th>     <td> </td>    \n",
       "</tr>\n",
       "<tr>\n",
       "  <th>Covariance Type:</th>          <td>nonrobust</td>        <th>                     </th>     <td> </td>    \n",
       "</tr>\n",
       "</table>\n",
       "<table class=\"simpletable\">\n",
       "<tr>\n",
       "                      <td></td>                         <th>coef</th>     <th>std err</th>      <th>t</th>      <th>P>|t|</th>  <th>[0.025</th>    <th>0.975]</th>  \n",
       "</tr>\n",
       "<tr>\n",
       "  <th>const</th>                                     <td>  200.5521</td> <td>    8.993</td> <td>   22.300</td> <td> 0.000</td> <td>  182.920</td> <td>  218.184</td>\n",
       "</tr>\n",
       "<tr>\n",
       "  <th>users.age</th>                                 <td>   -0.3200</td> <td>    0.175</td> <td>   -1.824</td> <td> 0.068</td> <td>   -0.664</td> <td>    0.024</td>\n",
       "</tr>\n",
       "<tr>\n",
       "  <th>user_facts.orders_in_first_30_days</th>        <td>  -82.1189</td> <td>    7.208</td> <td>  -11.393</td> <td> 0.000</td> <td>  -96.250</td> <td>  -67.988</td>\n",
       "</tr>\n",
       "<tr>\n",
       "  <th>user_facts.total_revenue_in_first_30_days</th> <td>    1.1115</td> <td>    0.047</td> <td>   23.791</td> <td> 0.000</td> <td>    1.020</td> <td>    1.203</td>\n",
       "</tr>\n",
       "</table>\n",
       "<table class=\"simpletable\">\n",
       "<tr>\n",
       "  <th>Omnibus:</th>       <td>2142.726</td> <th>  Durbin-Watson:     </th> <td>   0.951</td> \n",
       "</tr>\n",
       "<tr>\n",
       "  <th>Prob(Omnibus):</th>  <td> 0.000</td>  <th>  Jarque-Bera (JB):  </th> <td>18301.039</td>\n",
       "</tr>\n",
       "<tr>\n",
       "  <th>Skew:</th>           <td> 2.591</td>  <th>  Prob(JB):          </th> <td>    0.00</td> \n",
       "</tr>\n",
       "<tr>\n",
       "  <th>Kurtosis:</th>       <td>12.407</td>  <th>  Cond. No.          </th> <td>    318.</td> \n",
       "</tr>\n",
       "</table>"
      ],
      "text/plain": [
       "<class 'statsmodels.iolib.summary.Summary'>\n",
       "\"\"\"\n",
       "                               OLS Regression Results                               \n",
       "====================================================================================\n",
       "Dep. Variable:     user_facts.total_revenue   R-squared:                       0.138\n",
       "Model:                                  OLS   Adj. R-squared:                  0.138\n",
       "Method:                       Least Squares   F-statistic:                     203.3\n",
       "Date:                      Sat, 09 Sep 2017   Prob (F-statistic):          2.64e-122\n",
       "Time:                              21:07:32   Log-Likelihood:                -25629.\n",
       "No. Observations:                      3808   AIC:                         5.127e+04\n",
       "Df Residuals:                          3804   BIC:                         5.129e+04\n",
       "Df Model:                                 3                                         \n",
       "Covariance Type:                  nonrobust                                         \n",
       "=============================================================================================================\n",
       "                                                coef    std err          t      P>|t|      [0.025      0.975]\n",
       "-------------------------------------------------------------------------------------------------------------\n",
       "const                                       200.5521      8.993     22.300      0.000     182.920     218.184\n",
       "users.age                                    -0.3200      0.175     -1.824      0.068      -0.664       0.024\n",
       "user_facts.orders_in_first_30_days          -82.1189      7.208    -11.393      0.000     -96.250     -67.988\n",
       "user_facts.total_revenue_in_first_30_days     1.1115      0.047     23.791      0.000       1.020       1.203\n",
       "==============================================================================\n",
       "Omnibus:                     2142.726   Durbin-Watson:                   0.951\n",
       "Prob(Omnibus):                  0.000   Jarque-Bera (JB):            18301.039\n",
       "Skew:                           2.591   Prob(JB):                         0.00\n",
       "Kurtosis:                      12.407   Cond. No.                         318.\n",
       "==============================================================================\n",
       "\n",
       "Warnings:\n",
       "[1] Standard Errors assume that the covariance matrix of the errors is correctly specified.\n",
       "\"\"\""
      ]
     },
     "execution_count": 34,
     "metadata": {},
     "output_type": "execute_result"
    }
   ],
   "source": [
    "est = est.fit()\n",
    "est.summary()"
   ]
  },
  {
   "cell_type": "code",
   "execution_count": 35,
   "metadata": {
    "collapsed": true
   },
   "outputs": [],
   "source": [
    "## Validation Set Shaping \n",
    "X2 = newCustomersDF[['users.age','user_facts.orders_in_first_30_days', 'user_facts.total_revenue_in_first_30_days']]\n",
    "X2 = sm.add_constant(X2)\n",
    "## END Validation Set Shaping \n",
    "\n",
    "output = pd.concat([newCustomersDF[['users.id']],est.predict(X2)],axis=1)"
   ]
  },
  {
   "cell_type": "code",
   "execution_count": 36,
   "metadata": {
    "collapsed": true
   },
   "outputs": [],
   "source": [
    "#from __future__ import print_function\n",
    "from datetime import date, datetime, timedelta\n",
    "import mysql.connector\n",
    "\n",
    "cnx = mysql.connector.connect(\n",
    "                              user     = config.get('database', 'user'), \n",
    "                              password = config.get('database', 'password'),\n",
    "                              host     = config.get('database', 'host'),\n",
    "                              database = config.get('database', 'database')\n",
    "                             )\n",
    "cursor = cnx.cursor()\n",
    "\n",
    "cursor.execute('truncate table my_schema.ltv_predictions')\n",
    "\n",
    "for elem in output.itertuples():\n",
    "    add_record = (\"INSERT INTO my_schema.ltv_predictions (user_id, ltv_prediction) VALUES (%s, %s)\")\n",
    "    cursor.execute(add_record,(str(elem[1]),str(elem[2])))\n",
    "\n",
    "\n",
    "cnx.commit()\n",
    "cursor.close()\n",
    "cnx.close()\n"
   ]
  },
  {
   "cell_type": "code",
   "execution_count": null,
   "metadata": {
    "collapsed": true
   },
   "outputs": [],
   "source": []
  }
 ],
 "metadata": {
  "kernelspec": {
   "display_name": "Python 2",
   "language": "python",
   "name": "python2"
  },
  "language_info": {
   "codemirror_mode": {
    "name": "ipython",
    "version": 2
   },
   "file_extension": ".py",
   "mimetype": "text/x-python",
   "name": "python",
   "nbconvert_exporter": "python",
   "pygments_lexer": "ipython2",
   "version": "2.7.13"
  }
 },
 "nbformat": 4,
 "nbformat_minor": 2
}

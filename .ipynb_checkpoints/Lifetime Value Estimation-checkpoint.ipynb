{
 "cells": [
  {
   "cell_type": "code",
   "execution_count": 27,
   "metadata": {
    "collapsed": true
   },
   "outputs": [],
   "source": [
    "#Import Libraries needed for API, and Pandas\n",
    "import requests\n",
    "import pandas as pd\n",
    "import numpy as np\n",
    "import ConfigParser\n",
    "\n",
    "#Read config file with Looker API and Database connection information\n",
    "config = ConfigParser.RawConfigParser(allow_no_value=True)\n",
    "config.read('config')\n",
    "\n",
    "#Very Basic Looker API class allowing us to access the data from a given Look ID\n",
    "class lookerAPIClient:\n",
    "    def __init__(self, api_host=None, api_client_id=None, api_secret=None, api_port='19999'):\n",
    "        auth_request_payload = {'client_id': api_client_id, 'client_secret': api_secret}\n",
    "        self.host = api_host\n",
    "        self.uri_stub = '/api/3.0/'\n",
    "        self.uri_full = ''.join([api_host, ':', api_port, self.uri_stub])\n",
    "        response = requests.post(self.uri_full + 'login', params=auth_request_payload)\n",
    "        authData = response.json()\n",
    "        self.access_token = authData['access_token']\n",
    "        self.auth_headers = {\n",
    "                'Authorization' : 'token ' + self.access_token,\n",
    "                }\n",
    "\n",
    "    def post(self, call='', json_payload=None):\n",
    "        response = requests.post(self.uri_full + call, headers=self.auth_headers, json=json_payload)\n",
    "        return response.json()\n",
    "\n",
    "    def get(self, call=''):\n",
    "        response = requests.get(self.uri_full + call, headers=self.auth_headers)\n",
    "        return response.json()\n",
    "\n",
    "    def runLook(self, look, limit=100):\n",
    "        optional_arguments = '?' + 'limit=' + str(limit)\n",
    "        return self.get('/'.join(['looks',look,'run','json'])+optional_arguments)\n",
    "\n",
    "#Initialize the Looker API Class with the data in our config file (which is stored in a neighboring file 'config')\n",
    "x = lookerAPIClient(\n",
    "        api_host      = config.get('api', 'api_host'), \n",
    "        api_client_id = config.get('api', 'api_client_id'), \n",
    "        api_secret    = config.get('api', 'api_secret'), \n",
    "        api_port      = config.get('api', 'api_port')\n",
    "        )    \n",
    "    \n",
    "#Use the API to get our training/'test' dataset and our new 'validation' dataset we will predict upon\n",
    "testGroupRaw = x.runLook('292',limit=10000)\n",
    "validationGroupRaw = x.runLook('293',limit=10000)\n",
    "\n",
    "\n",
    "trainingSet = pd.DataFrame(testGroupRaw)\n",
    "validationSet  = pd.DataFrame(validationGroupRaw)\n"
   ]
  },
  {
   "cell_type": "code",
   "execution_count": 28,
   "metadata": {
    "collapsed": true
   },
   "outputs": [],
   "source": [
    "import statsmodels.api as sm\n",
    "# import pandas.tseries.statsmodels.api as sm\n",
    "trainingSet.head()\n",
    "\n",
    "Y = trainingSet['user_facts.total_revenue']\n",
    "X = trainingSet[['users.age','user_facts.orders_in_first_30_days','user_facts.total_revenue_in_first_30_days']]\n",
    "\n",
    "X = sm.add_constant(X)\n",
    "\n",
    "est = sm.OLS(Y,X)"
   ]
  },
  {
   "cell_type": "code",
   "execution_count": 29,
   "metadata": {},
   "outputs": [
    {
     "data": {
      "text/html": [
       "<table class=\"simpletable\">\n",
       "<caption>OLS Regression Results</caption>\n",
       "<tr>\n",
       "  <th>Dep. Variable:</th>    <td>user_facts.total_revenue</td> <th>  R-squared:         </th> <td>   0.132</td> \n",
       "</tr>\n",
       "<tr>\n",
       "  <th>Model:</th>                       <td>OLS</td>           <th>  Adj. R-squared:    </th> <td>   0.131</td> \n",
       "</tr>\n",
       "<tr>\n",
       "  <th>Method:</th>                 <td>Least Squares</td>      <th>  F-statistic:       </th> <td>   195.5</td> \n",
       "</tr>\n",
       "<tr>\n",
       "  <th>Date:</th>                 <td>Tue, 05 Sep 2017</td>     <th>  Prob (F-statistic):</th> <td>5.08e-118</td>\n",
       "</tr>\n",
       "<tr>\n",
       "  <th>Time:</th>                     <td>17:13:43</td>         <th>  Log-Likelihood:    </th> <td> -25936.</td> \n",
       "</tr>\n",
       "<tr>\n",
       "  <th>No. Observations:</th>          <td>  3870</td>          <th>  AIC:               </th> <td>5.188e+04</td>\n",
       "</tr>\n",
       "<tr>\n",
       "  <th>Df Residuals:</th>              <td>  3866</td>          <th>  BIC:               </th> <td>5.191e+04</td>\n",
       "</tr>\n",
       "<tr>\n",
       "  <th>Df Model:</th>                  <td>     3</td>          <th>                     </th>     <td> </td>    \n",
       "</tr>\n",
       "<tr>\n",
       "  <th>Covariance Type:</th>          <td>nonrobust</td>        <th>                     </th>     <td> </td>    \n",
       "</tr>\n",
       "</table>\n",
       "<table class=\"simpletable\">\n",
       "<tr>\n",
       "                      <td></td>                         <th>coef</th>     <th>std err</th>      <th>t</th>      <th>P>|t|</th>  <th>[0.025</th>    <th>0.975]</th>  \n",
       "</tr>\n",
       "<tr>\n",
       "  <th>const</th>                                     <td>  189.8458</td> <td>    8.479</td> <td>   22.391</td> <td> 0.000</td> <td>  173.223</td> <td>  206.469</td>\n",
       "</tr>\n",
       "<tr>\n",
       "  <th>users.age</th>                                 <td>   -0.1026</td> <td>    0.167</td> <td>   -0.615</td> <td> 0.539</td> <td>   -0.430</td> <td>    0.225</td>\n",
       "</tr>\n",
       "<tr>\n",
       "  <th>user_facts.orders_in_first_30_days</th>        <td>  -68.3022</td> <td>    6.857</td> <td>   -9.961</td> <td> 0.000</td> <td>  -81.746</td> <td>  -54.858</td>\n",
       "</tr>\n",
       "<tr>\n",
       "  <th>user_facts.total_revenue_in_first_30_days</th> <td>    1.0058</td> <td>    0.044</td> <td>   23.020</td> <td> 0.000</td> <td>    0.920</td> <td>    1.091</td>\n",
       "</tr>\n",
       "</table>\n",
       "<table class=\"simpletable\">\n",
       "<tr>\n",
       "  <th>Omnibus:</th>       <td>1876.211</td> <th>  Durbin-Watson:     </th> <td>   0.865</td> \n",
       "</tr>\n",
       "<tr>\n",
       "  <th>Prob(Omnibus):</th>  <td> 0.000</td>  <th>  Jarque-Bera (JB):  </th> <td>10374.619</td>\n",
       "</tr>\n",
       "<tr>\n",
       "  <th>Skew:</th>           <td> 2.320</td>  <th>  Prob(JB):          </th> <td>    0.00</td> \n",
       "</tr>\n",
       "<tr>\n",
       "  <th>Kurtosis:</th>       <td> 9.543</td>  <th>  Cond. No.          </th> <td>    316.</td> \n",
       "</tr>\n",
       "</table>"
      ],
      "text/plain": [
       "<class 'statsmodels.iolib.summary.Summary'>\n",
       "\"\"\"\n",
       "                               OLS Regression Results                               \n",
       "====================================================================================\n",
       "Dep. Variable:     user_facts.total_revenue   R-squared:                       0.132\n",
       "Model:                                  OLS   Adj. R-squared:                  0.131\n",
       "Method:                       Least Squares   F-statistic:                     195.5\n",
       "Date:                      Tue, 05 Sep 2017   Prob (F-statistic):          5.08e-118\n",
       "Time:                              17:13:43   Log-Likelihood:                -25936.\n",
       "No. Observations:                      3870   AIC:                         5.188e+04\n",
       "Df Residuals:                          3866   BIC:                         5.191e+04\n",
       "Df Model:                                 3                                         \n",
       "Covariance Type:                  nonrobust                                         \n",
       "=============================================================================================================\n",
       "                                                coef    std err          t      P>|t|      [0.025      0.975]\n",
       "-------------------------------------------------------------------------------------------------------------\n",
       "const                                       189.8458      8.479     22.391      0.000     173.223     206.469\n",
       "users.age                                    -0.1026      0.167     -0.615      0.539      -0.430       0.225\n",
       "user_facts.orders_in_first_30_days          -68.3022      6.857     -9.961      0.000     -81.746     -54.858\n",
       "user_facts.total_revenue_in_first_30_days     1.0058      0.044     23.020      0.000       0.920       1.091\n",
       "==============================================================================\n",
       "Omnibus:                     1876.211   Durbin-Watson:                   0.865\n",
       "Prob(Omnibus):                  0.000   Jarque-Bera (JB):            10374.619\n",
       "Skew:                           2.320   Prob(JB):                         0.00\n",
       "Kurtosis:                       9.543   Cond. No.                         316.\n",
       "==============================================================================\n",
       "\n",
       "Warnings:\n",
       "[1] Standard Errors assume that the covariance matrix of the errors is correctly specified.\n",
       "\"\"\""
      ]
     },
     "execution_count": 29,
     "metadata": {},
     "output_type": "execute_result"
    }
   ],
   "source": [
    "est = est.fit()\n",
    "est.summary()"
   ]
  },
  {
   "cell_type": "code",
   "execution_count": 30,
   "metadata": {
    "collapsed": true
   },
   "outputs": [],
   "source": [
    "## Validation Set Shaping \n",
    "X2 = validationSet[['users.age','user_facts.orders_in_first_30_days', 'user_facts.total_revenue_in_first_30_days']]\n",
    "X2 = sm.add_constant(X2)\n",
    "## END Validation Set Shaping \n",
    "\n",
    "output = pd.concat([validationSet[['users.id']],est.predict(X2)],axis=1)"
   ]
  },
  {
   "cell_type": "code",
   "execution_count": 31,
   "metadata": {
    "collapsed": true
   },
   "outputs": [],
   "source": [
    "#from __future__ import print_function\n",
    "from datetime import date, datetime, timedelta\n",
    "import mysql.connector\n",
    "\n",
    "cnx = mysql.connector.connect(\n",
    "                              user     = config.get('database', 'user'), \n",
    "                              password = config.get('database', 'password'),\n",
    "                              host     = config.get('database', 'host'),\n",
    "                              database = config.get('database', 'database')\n",
    "                             )\n",
    "cursor = cnx.cursor()\n",
    "\n",
    "cursor.execute('truncate table partner_scratch.ltv_predictions')\n",
    "\n",
    "for elem in output.itertuples():\n",
    "    add_record = (\"INSERT INTO partner_scratch.ltv_predictions (user_id, ltv_prediction) VALUES (%s, %s)\")\n",
    "    cursor.execute(add_record,(str(elem[1]),str(elem[2])))\n",
    "\n",
    "\n",
    "cnx.commit()\n",
    "cursor.close()\n",
    "cnx.close()\n"
   ]
  },
  {
   "cell_type": "code",
   "execution_count": null,
   "metadata": {
    "collapsed": true
   },
   "outputs": [],
   "source": []
  }
 ],
 "metadata": {
  "kernelspec": {
   "display_name": "Python 2",
   "language": "python",
   "name": "python2"
  },
  "language_info": {
   "codemirror_mode": {
    "name": "ipython",
    "version": 2
   },
   "file_extension": ".py",
   "mimetype": "text/x-python",
   "name": "python",
   "nbconvert_exporter": "python",
   "pygments_lexer": "ipython2",
   "version": "2.7.13"
  }
 },
 "nbformat": 4,
 "nbformat_minor": 2
}
